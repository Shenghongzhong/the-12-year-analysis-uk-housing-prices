{
 "cells": [
  {
   "cell_type": "code",
   "execution_count": 1,
   "id": "floppy-duplicate",
   "metadata": {},
   "outputs": [],
   "source": [
    "import json\n",
    "from urllib.request import urlopen\n",
    "import numpy as np\n",
    "import pandas as pd\n",
    "import folium"
   ]
  },
  {
   "cell_type": "markdown",
   "id": "welcome-idaho",
   "metadata": {},
   "source": [
    "## Download the cleaned dataset"
   ]
  },
  {
   "cell_type": "code",
   "execution_count": 2,
   "id": "banned-ground",
   "metadata": {},
   "outputs": [],
   "source": [
    "with urlopen('http://geoportal1-ons.opendata.arcgis.com/datasets/1d78d47c87df4212b79fe2323aae8e08_0.geojson?outSR={%22latestWkid%22:27700,%22wkid%22:27700}') as response:\n",
    "    uk_geo = json.load(response)\n",
    "data = pd.read_csv('https://gist.githubusercontent.com/Shenghongzhong/7313a75633a6a21822f5461490279971/raw/75b493ff8a208d4570848b55647134499b8dfdbc/cleaned_data_cleaning_for_foilum_v3_for_use.csv')"
   ]
  },
  {
   "cell_type": "markdown",
   "id": "treated-committee",
   "metadata": {},
   "source": [
    "## Choropleth mapping with the house sales in England&Wales from 1995 to 2017"
   ]
  },
  {
   "cell_type": "code",
   "execution_count": 4,
   "id": "eastern-courage",
   "metadata": {},
   "outputs": [],
   "source": [
    "uk_map = folium.Map(tiles='cartodbpositron',location=[54.38, -2.7], zoom_start = 6.499)\n",
    "folium.Choropleth(\n",
    "    geo_data=uk_geo,\n",
    "    name=\"choropleth\",\n",
    "    data=data,\n",
    "    columns=[\"lad19cd\", \"per\"],\n",
    "    key_on=\"feature.properties.lad19cd\",\n",
    "    fill_color=\"YlGn\",\n",
    "    fill_opacity=0.7,\n",
    "    line_opacity=0.2,\n",
    "    legend_name=\"House sales across district\",\n",
    ").add_to(uk_map)\n",
    "folium.LayerControl().add_to(uk_map)\n",
    "uk_map\n",
    "uk_map.save('#292_folium_chloropleth_12_year_analysis_England_Wales.html')"
   ]
  },
  {
   "cell_type": "markdown",
   "id": "outer-click",
   "metadata": {},
   "source": [
    "# Reference\n",
    "\n",
    "\n",
    "Mapping the UK and navigating the post code maze by Juan Felipe Alvarez Jaramillo, [https://focaalvarez.medium.com/mapping-the-uk-and-navigating-the-post-code-maze-4898e758b82f](https://focaalvarez.medium.com/mapping-the-uk-and-navigating-the-post-code-maze-4898e758b82f)"
   ]
  },
  {
   "cell_type": "code",
   "execution_count": null,
   "id": "knowing-purple",
   "metadata": {},
   "outputs": [],
   "source": []
  }
 ],
 "metadata": {
  "kernelspec": {
   "display_name": "Python 3",
   "language": "python",
   "name": "python3"
  },
  "language_info": {
   "codemirror_mode": {
    "name": "ipython",
    "version": 3
   },
   "file_extension": ".py",
   "mimetype": "text/x-python",
   "name": "python",
   "nbconvert_exporter": "python",
   "pygments_lexer": "ipython3",
   "version": "3.8.5"
  }
 },
 "nbformat": 4,
 "nbformat_minor": 5
}
